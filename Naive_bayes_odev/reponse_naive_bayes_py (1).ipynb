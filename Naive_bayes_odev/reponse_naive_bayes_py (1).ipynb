{
 "cells": [
  {
   "cell_type": "code",
   "execution_count": 1,
   "id": "d3925b31",
   "metadata": {
    "id": "d3925b31"
   },
   "outputs": [],
   "source": [
    "import pandas as pd\n",
    "import numpy as np\n",
    "from sklearn.model_selection import train_test_split\n",
    "from sklearn.naive_bayes import GaussianNB, MultinomialNB\n",
    "from sklearn.metrics import accuracy_score, classification_report\n",
    "#import matplotlib.pyplot as plt\n",
    "import seaborn as sns\n",
    "from sklearn.feature_extraction.text import CountVectorizer\n"
   ]
  },
  {
   "cell_type": "code",
   "execution_count": 2,
   "id": "329e4c36",
   "metadata": {
    "id": "329e4c36"
   },
   "outputs": [],
   "source": [
    "df_train_irre =pd.read_csv(r'C:\\Users\\oumar\\Desktop\\Python_odev\\ddi_nb_bonus\\haiti\\train\\irrelevant', sep='|',names=['sentences'])\n",
    "df_train_irre['class']= 0 \n",
    "\n",
    "df_train_re =pd.read_csv(r'C:\\Users\\oumar\\Desktop\\Python_odev\\ddi_nb_bonus\\haiti\\train\\relevant', sep='|',names=['sentences'])\n",
    "df_train_re['class']= 1"
   ]
  },
  {
   "cell_type": "code",
   "execution_count": 3,
   "id": "b79aa6fa",
   "metadata": {
    "colab": {
     "base_uri": "https://localhost:8080/",
     "height": 206
    },
    "id": "b79aa6fa",
    "outputId": "7022191e-b69d-4efd-dc8e-0b82419a0dc6"
   },
   "outputs": [
    {
     "name": "stderr",
     "output_type": "stream",
     "text": [
      "C:\\Users\\oumar\\AppData\\Local\\Temp\\ipykernel_9192\\3629566172.py:1: FutureWarning: The frame.append method is deprecated and will be removed from pandas in a future version. Use pandas.concat instead.\n",
      "  df_merged = df_train_irre.append(df_train_re, ignore_index=True).sample(frac=1)\n"
     ]
    },
    {
     "data": {
      "text/html": [
       "<div>\n",
       "<style scoped>\n",
       "    .dataframe tbody tr th:only-of-type {\n",
       "        vertical-align: middle;\n",
       "    }\n",
       "\n",
       "    .dataframe tbody tr th {\n",
       "        vertical-align: top;\n",
       "    }\n",
       "\n",
       "    .dataframe thead th {\n",
       "        text-align: right;\n",
       "    }\n",
       "</style>\n",
       "<table border=\"1\" class=\"dataframe\">\n",
       "  <thead>\n",
       "    <tr style=\"text-align: right;\">\n",
       "      <th></th>\n",
       "      <th>sentences</th>\n",
       "      <th>class</th>\n",
       "    </tr>\n",
       "  </thead>\n",
       "  <tbody>\n",
       "    <tr>\n",
       "      <th>936</th>\n",
       "      <td>voice of america . please pass the message alo...</td>\n",
       "      <td>1</td>\n",
       "    </tr>\n",
       "    <tr>\n",
       "      <th>280</th>\n",
       "      <td>digicel , please put some credit on our phones</td>\n",
       "      <td>0</td>\n",
       "    </tr>\n",
       "    <tr>\n",
       "      <th>231</th>\n",
       "      <td>i will come to pick you up at 11 o'clock . i a...</td>\n",
       "      <td>0</td>\n",
       "    </tr>\n",
       "    <tr>\n",
       "      <th>606</th>\n",
       "      <td>where can we find crads for food , we are in f...</td>\n",
       "      <td>1</td>\n",
       "    </tr>\n",
       "    <tr>\n",
       "      <th>780</th>\n",
       "      <td>we still ca n't find any food whatsoever and w...</td>\n",
       "      <td>1</td>\n",
       "    </tr>\n",
       "  </tbody>\n",
       "</table>\n",
       "</div>"
      ],
      "text/plain": [
       "                                             sentences  class\n",
       "936  voice of america . please pass the message alo...      1\n",
       "280     digicel , please put some credit on our phones      0\n",
       "231  i will come to pick you up at 11 o'clock . i a...      0\n",
       "606  where can we find crads for food , we are in f...      1\n",
       "780  we still ca n't find any food whatsoever and w...      1"
      ]
     },
     "execution_count": 3,
     "metadata": {},
     "output_type": "execute_result"
    }
   ],
   "source": [
    "df_merged = df_train_irre.append(df_train_re, ignore_index=True).sample(frac=1)\n",
    "X_train=df_merged[\"sentences\"].to_numpy()\n",
    "y_train=df_merged[\"class\"].to_numpy()\n",
    "\n",
    "df_merged.head()"
   ]
  },
  {
   "cell_type": "code",
   "execution_count": 15,
   "id": "Lu2Bgk0UjFAp",
   "metadata": {
    "colab": {
     "base_uri": "https://localhost:8080/"
    },
    "id": "Lu2Bgk0UjFAp",
    "outputId": "7dedffe6-b218-4107-9099-0c545ed8f71c"
   },
   "outputs": [
    {
     "data": {
      "text/plain": [
       "array([1, 0, 0, ..., 1, 0, 1], dtype=int64)"
      ]
     },
     "execution_count": 15,
     "metadata": {},
     "output_type": "execute_result"
    }
   ],
   "source": [
    "y_train"
   ]
  },
  {
   "cell_type": "code",
   "execution_count": 14,
   "id": "e262efe3",
   "metadata": {
    "id": "e262efe3"
   },
   "outputs": [],
   "source": [
    "df_test_re =pd.read_csv(r'C:\\Users\\oumar\\Desktop\\Python_odev\\ddi_nb_bonus\\haiti\\test\\relevant', sep='|',names=['sentences'])\n",
    "df_test_re['class']=1\n",
    "\n",
    "df_test_irre =pd.read_csv(r'C:\\Users\\oumar\\Desktop\\Python_odev\\ddi_nb_bonus\\haiti\\test\\irrelevant', sep='|',names=['sentences'])\n",
    "df_test_irre['class']=0"
   ]
  },
  {
   "cell_type": "code",
   "execution_count": 6,
   "id": "68c7b597",
   "metadata": {
    "colab": {
     "base_uri": "https://localhost:8080/",
     "height": 206
    },
    "id": "68c7b597",
    "outputId": "34e22e30-d9da-4ec9-f0c4-5a160207e0ab"
   },
   "outputs": [
    {
     "name": "stderr",
     "output_type": "stream",
     "text": [
      "C:\\Users\\oumar\\AppData\\Local\\Temp\\ipykernel_9192\\2562285556.py:1: FutureWarning: The frame.append method is deprecated and will be removed from pandas in a future version. Use pandas.concat instead.\n",
      "  df_merged = df_test_irre.append(df_test_re, ignore_index=True).sample(frac=1)\n"
     ]
    },
    {
     "data": {
      "text/html": [
       "<div>\n",
       "<style scoped>\n",
       "    .dataframe tbody tr th:only-of-type {\n",
       "        vertical-align: middle;\n",
       "    }\n",
       "\n",
       "    .dataframe tbody tr th {\n",
       "        vertical-align: top;\n",
       "    }\n",
       "\n",
       "    .dataframe thead th {\n",
       "        text-align: right;\n",
       "    }\n",
       "</style>\n",
       "<table border=\"1\" class=\"dataframe\">\n",
       "  <thead>\n",
       "    <tr style=\"text-align: right;\">\n",
       "      <th></th>\n",
       "      <th>sentences</th>\n",
       "      <th>class</th>\n",
       "    </tr>\n",
       "  </thead>\n",
       "  <tbody>\n",
       "    <tr>\n",
       "      <th>67</th>\n",
       "      <td>a lot of victims arrive at the hospital erez m...</td>\n",
       "      <td>1</td>\n",
       "    </tr>\n",
       "    <tr>\n",
       "      <th>4</th>\n",
       "      <td>thanks you so much for your advice , good job ...</td>\n",
       "      <td>0</td>\n",
       "    </tr>\n",
       "    <tr>\n",
       "      <th>40</th>\n",
       "      <td>if i have a humain be out of his ( her ) mind ...</td>\n",
       "      <td>0</td>\n",
       "    </tr>\n",
       "    <tr>\n",
       "      <th>49</th>\n",
       "      <td>he is in gros morne all the wounded are there ...</td>\n",
       "      <td>1</td>\n",
       "    </tr>\n",
       "    <tr>\n",
       "      <th>28</th>\n",
       "      <td>why did watancard did not received at ?</td>\n",
       "      <td>0</td>\n",
       "    </tr>\n",
       "  </tbody>\n",
       "</table>\n",
       "</div>"
      ],
      "text/plain": [
       "                                            sentences  class\n",
       "67  a lot of victims arrive at the hospital erez m...      1\n",
       "4   thanks you so much for your advice , good job ...      0\n",
       "40  if i have a humain be out of his ( her ) mind ...      0\n",
       "49  he is in gros morne all the wounded are there ...      1\n",
       "28            why did watancard did not received at ?      0"
      ]
     },
     "execution_count": 6,
     "metadata": {},
     "output_type": "execute_result"
    }
   ],
   "source": [
    "df_merged = df_test_irre.append(df_test_re, ignore_index=True).sample(frac=1)\n",
    "X_test=df_merged[\"sentences\"].to_numpy()\n",
    "y_test=df_merged[\"class\"].to_numpy()\n",
    "\n",
    "df_merged.head()"
   ]
  },
  {
   "cell_type": "code",
   "execution_count": 7,
   "id": "Sc5jmIBheIQ_",
   "metadata": {
    "colab": {
     "base_uri": "https://localhost:8080/"
    },
    "id": "Sc5jmIBheIQ_",
    "outputId": "65cf577a-49c8-4b27-a89f-2059018d4a39"
   },
   "outputs": [
    {
     "name": "stdout",
     "output_type": "stream",
     "text": [
      "{'voice': 2920, 'of': 1931, 'america': 213, 'please': 2094, 'pass': 2013, 'the': 2706, 'message': 1750, 'along': 204, 'for': 1144, 'us': 2871, 'we': 2944, 'live': 1631, 'in': 1408, 'gressier': 1260, '24th': 44, 'section': 2405, 'ti': 2742, 'boukan': 427, 'are': 264, 'dying': 925, 'hunger': 1374, 'what': 2963, 'had': 1275, 'is': 1454, 'finished': 1111, 'digicel': 838, 'put': 2197, 'some': 2527, 'credit': 709, 'on': 1945, 'our': 1977, 'phones': 2060, 'will': 2989, 'come': 612, 'to': 2752, 'pick': 2062, 'you': 3037, 'up': 2864, 'at': 290, '11': 5, 'clock': 592, 'am': 211, 'all': 196, 'yours': 3040, 'my': 1841, 'darling': 753, 'where': 2969, 'can': 493, 'find': 1107, 'crads': 706, 'food': 1140, 'fontamara': 1139, '27': 48, 'rue': 2347, 'castera': 520, 'et': 999, 'mapou': 1693, 'nothing': 1909, 'still': 2589, 'ca': 479, 'any': 237, 'whatsoever': 2965, 'and': 220, 'actually': 140, 'help': 1322, 'save': 2380, 'remaining': 2267, 'brothers': 450, 'sisters': 2486, 'that': 2704, 'alive': 194, 'do': 875, 'have': 1304, 'mosquito': 1818, 'nets': 1878, 'children': 560, 'they': 2718, 'did': 823, 'bring': 444, 'required': 2296, '20ltrs': 35, 'canes': 498, 'mineral': 1774, 'water': 2941, 'slrc': 2505, 'relief': 2264, 'camp': 491, 'toothache': 2768, 'ciamoon': 568, 'orange': 1961, 'fine': 1109, 'salt': 2364, 'evaillant': 1006, 'street': 2598, 'haiti': 1279, 'there': 2714, 'not': 1905, 'electricity': 962, 'sleep': 2498, 'because': 346, 'animals': 223, 'bother': 421, 'how': 1364, 'receive': 2239, 'if': 1397, 'stay': 2586, 'home': 1346, 'hear': 1311, 'about': 118, 'happenning': 1294, 'aid': 179, 'other': 1972, 'nations': 1853, 'sent': 2432, 'hid': 1331, 'trucks': 2808, 'rice': 2324, 'gang': 1188, 'thieves': 2719, 'someone': 2530, 'go': 1219, 'usa': 2872, 'has': 1301, 'brother': 449, 'who': 2978, 'citizen': 577, 'would': 3017, 'like': 1618, 'information': 1424, 'digicell': 839, 'make': 1679, 'it': 1460, 'functional': 1181, 'transfer': 2786, '25': 45, 'gourds': 1237, 'me': 1723, 'call': 486, 'town': 2780, 'hall': 1284, 'now': 1912, 'report': 2287, 'crois': 713, 'des': 796, 'bouquet': 429, 'thanks': 2703, 'advance': 153, 'god': 1222, 'refund': 2255, 'distribution': 864, 'well': 2956, 'planned': 2083, 'communes': 625, 'sections': 2406, 'give': 1212, 'their': 2708, 'acquaintances': 133, 'places': 2076, 'houses': 1362, 'with': 2996, '10': 1, 'people': 2036, 'tents': 2692, 'box': 432, 'tarpaulins': 2667, 'canvas': 502, 'victims': 2902, 'desperate': 806, 'requirement': 2297, 'drinking': 908, 'dam': 743, 'bund': 462, 'surjani': 2638, 'sajawal': 2359, 'sitting': 2488, 'these': 2717, 'bunds': 463, 'absolutely': 122, 'shelterless': 2456, 'thank': 2701, 'always': 210, 'keeping': 1523, 'inform': 1423, 'forget': 1150, 'provinces': 2179, 'mawouj': 1719, 'little': 1630, 'underprivileged': 2838, 'area': 265, 'lot': 1656, 'coming': 615, 'from': 1175, 'port': 2112, 'au': 297, 'prince': 2147, 'came': 490, 'products': 2158, 'became': 344, 'very': 2896, 'expensive': 1033, 'starting': 2574, 'be': 338, 'really': 2236, 'hungry': 1377, 'taking': 2657, 'care': 509, 'injured': 1432, '63': 96, '457': 74, 'neighborhood': 1868, 'shame': 2446, 'humiliate': 1372, 'this': 2726, 'work': 3007, 'together': 2754, 'ourselves': 1979, 'happy': 1296, 'whatever': 2964, 'victim': 2900, 'head': 1307, 'wound': 3018, 'comfortable': 614, 'sickness': 2469, 'card': 507, 'eat': 936, 'why': 2983, 'so': 2513, 'called': 487, 'program': 2163, 'presidents': 2142, 'apparently': 243, 'making': 1681, 'efforts': 953, 'against': 169, 'talking': 2660, 'when': 2967, 'majority': 1678, 'family': 1059, 'general': 1194, 'population': 2111, 'gonaives': 1226, 'myself': 1843, 'as': 275, 'an': 219, 'example': 1024, 'bo': 402, 'gravel': 1254, 'vob': 2919, 'ta': 2647, '41': 69, 'need': 1859, 'number': 1915, 'appear': 245, 'was': 2939, 'pap': 2002, 'lost': 1655, 'house': 1361, 'les': 1604, 'cayes': 528, 'united': 2849, 'nation': 1851, 'see': 2408, 'anything': 241, 'sick': 2467, 'here': 1327, 'medicine': 1739, 'covers': 705, 'broke': 447, 'down': 901, 'claude': 585, 'felix': 1081, 'ask': 276, 'yesturday': 3035, 'communal': 623, 'petit': 2055, 'distribute': 861, 'gave': 1192, 'tablets': 2652, 'which': 2972, 'treat': 2798, 'no': 1893, 'enough': 985, 'instructions': 1441, 'use': 2873, 'today': 2753, 'earthquake': 931, 'occurred': 1926, 'remen': 2272, 'out': 1980, 'homes': 1349, 'sleeping': 2499, 'seren': 2434, 'suffer': 2621, 'many': 1691, 'reply': 2285, 'situation': 2490, 'get': 1202, 'worse': 3015, 'concerned': 645, 'authorities': 301, 'act': 136, 'dufour': 919, 'next': 1883, 'miragoane': 1783, 'kids': 1532, 'bon': 410, 'repos': 2289, 'wife': 2987, 'small': 2507, 'child': 558, 'them': 2709, 'directors': 847, 'take': 2653, 'place': 2075, 'region': 2257, 'marin': 1699, 'croix': 714, 'missions': 1791, 'killing': 1534, 'something': 2532, 'acul': 141, 'leogane': 1602, 'starving': 2577, 'concerning': 646, 'dont': 896, 'doctors': 881, 'know': 1544, 'nt': 1914, 'wanna': 2933, 'pay': 2028, 'teachers': 2671, '3rd': 66, 'cycle': 736, 'been': 352, 'working': 3011, 'since': 2482, 'years': 3032, 'carrefou': 517, 'those': 2730, 'sibert': 2466, 'american': 215, 'airlines': 186, 'resuming': 2315, 'its': 1462, 'flights': 1120, 'delmas': 785, '40': 67, 'location': 1640, 'approximate': 251, 'could': 688, 'map': 1692, 'locate': 1638, 'gps': 1247, 'point': 2102, 'midway': 1765, 'between': 380, '32': 57, '48': 76, 'sebastien': 2401, 'cournoyer': 700, 'notes': 1908, 'written': 3024, 'spanish': 2554, 'hopital': 1352, 'occasion': 1924, 'send': 2424, 'space': 2552, 'statement': 2579, 'qualification': 2202, 'certified': 540, 'social': 2515, 'science': 2391, 'student': 2608, 'tell': 2683, 'experts': 1034, 'disaster': 849, 'stricken': 2603, 'trans': 2785, 'going': 1223, 'company': 630, 'wich': 2985, 'quantity': 2203, 'clorox': 593, 'must': 1839, 'think': 2722, 'opening': 1953, 'school': 2388, 'health': 1309, 'protection': 2174, 'center': 534, 'gonaive': 1225, 'more': 1813, 'than': 2700, '100': 2, 'feed': 1072, 'sos': 2544, 'city': 581, 'bourdon': 431, 'avenue': 305, 'john': 1492, 'brown': 452, 'carrefour': 518, 'access': 125, 'internet': 1446, 'friend': 1172, 'confirm': 651, 'plaese': 2077, 'true': 2809, '20': 28, 'haitians': 1281, 'helicopter': 1317, 'village': 2907, 'allhadino': 199, 'khaskheli': 1530, 'thatta': 2705, 'walidad': 2927, 'whoe': 2979, 'under': 2835, 'floods': 1123, 'belongings': 369, 'flooded': 1122, 'ngo': 1884, 'rations': 2225, 'before': 353, 'month': 1810, 'nrsp': 1913, 'flour': 1127, 'oil': 1940, 'too': 2764, 'exhausted': 1029, '15': 15, 'days': 761, 'flore': 1125, 'around': 270, '400': 68, 'demunis': 789, 'damien': 748, 'unibank': 2844, 'yard': 3030, 'pam': 1999, 'pak': 1992, 'friends': 1173, 'leave': 1592, 'stave': 2585, 'route': 2341, 'constract': 658, 'ion': 1453, 'bobies': 403, 'suf': 2620, 'ering': 995, 'namonia': 1849, 'deseases': 800, 're': 2229, 'belair': 362, 'foot': 1142, 'morne': 1815, 'karate': 1516, 'road': 2332, 'amitie': 217, 'de': 762, 'jacmel': 1466, 'writing': 3023, 'request': 2293, 'assistance': 283, 'things': 2721, 'type': 2827, 'behaviour': 358, 'suppose': 2633, 'rainy': 2218, 'season': 2400, 'red': 2249, 'cross': 717, 'much': 1836, 'friendship': 1174, 'suffering': 2623, 'although': 209, 'said': 2354, 'love': 1661, 'after': 163, 'or': 1960, 'tent': 2689, 'shelter': 2455, 'un': 2832, 'living': 1634, 'arealapote': 266, 'wedo': 2951, 'otority': 1975, 'speak': 2555, 'door': 897, 'cause': 525, 'childen': 559, 'every': 1014, 'day': 760, 'fighting': 1095, 'ong': 1949, 'alimentary': 193, 'larat': 1572, 'kadt': 1506, 'tomazo': 2759, 'doctor': 879, 'peopl': 2035, 'but': 472, 'supplies': 2629, 'government': 1244, '22': 40, 'never': 1879, 'found': 1161, 'got': 1234, 'surgery': 2637, 'pregnant': 2135, 'hospital': 1354, 'without': 2998, 'borders': 416, '19': 22, 'closed': 595, 'st': 2567, 'louis': 1660, 'gonzague': 1229, '33': 58, 'takes': 2656, 'sickly': 2468, 'patients': 2025, 'free': 1167, 'charge': 550, 'field': 1091, 'creole': 711, 'french': 1168, 'half': 1283, 'english': 980, 'mw': 1840, 'located': 1639, 'source': 2549, 'corrosol': 683, 'eglise': 954, 'dieu': 829, 'life': 1615, 'approx': 250, '900': 111, 'note': 1906, 'th': 2698, 'profesial': 2159, 'uses': 2877, 'canape': 496, 'vert': 2895, 'outside': 1983, 'money': 1807, 'dead': 763, 'lord': 1652, '87': 108, 'problems': 2153, 'among': 218, 'most': 1821, 'year': 3031, 'old': 1943, 'he': 1306, 'piece': 2064, 'concrete': 649, 'fell': 1082, 'his': 1339, 'also': 208, 'person': 2046, 'broken': 448, 'hand': 1286, 'nurse': 1918, 'permanent': 2042, 'students': 2609, 'job': 1487, 'misery': 1786, 'economist': 944, 'monies': 1808, 'blood': 400, 'la': 1554, 'gonave': 1227, 'jeremie': 1478, 'aids': 181, 'sir': 2484, 'madam': 1669, 'stand': 2570, 'share': 2449, 'benefit': 372, 'paix': 1991, 'jpp': 1499, 'jeunesse': 1481, 'pouvoir': 2126, 'populaire': 2110, 'political': 2107, 'affiliation': 160, 'needs': 1862, 'mahotiere': 1674, '77': 102, 'trofort': 2802, 'somewhere': 2534, 'better': 379, 'conviction': 671, 'msg': 1832, 'sim': 2480, '6months': 99, 'ago': 171, 'look': 1647, 'hi': 1330, 'montrouis': 1812, 'guys': 1272, 'received': 2240, 'first': 1114, 'moutisquo': 1828, 'contaminate': 662, 'by': 478, 'moustiquo': 1826, 'solution': 2526, 'malaria': 1682, 'congratulate': 653, 'one': 1946, 'each': 926, 'haitian': 1280, 'less': 1606, 'way': 2943, 'continue': 665, 'operating': 1956, 'system': 2646, 'hours': 1358, 'grace': 1248, 'forgiveness': 1152, 'mercy': 1748, 'faith': 1054, 'bois': 407, 'verna': 2893, 'near': 1855, 'sogesol': 2517, 'facing': 1049, 'problem': 2152, 'connfction': 654, 'bit': 388, 'sahib': 2353, 'khan': 1529, 'solangi': 2520, 'union': 2846, 'council': 689, 'kamal': 1510, 'taluka': 2662, 'johi': 1491, 'district': 866, 'dadu': 740, 'want': 2934, 'were': 2959, 'cap': 503, 'haitien': 1282, 'north': 1903, '250': 46, 'km': 1542, 'important': 1405, 'bottle': 422, 'treated': 2799, 'aquatab': 255, 'martissan': 1707, 'calls': 489, 'cannot': 500, 'through': 2736, 'chance': 546, 'mobil': 1796, 'clinical': 591, 'women': 3003, 'frere': 1169, 'organized': 1970, 'wrong': 3025, 'bouchereau': 426, 'valley': 2886, 'families': 1058, 'slpeeping': 2504, 'cold': 605, 'medication': 1736, 'zachari7': 3042, '14': 13, 'zahari8': 3043, '13': 12, 'rois13': 2337, 'subject': 2614, 'turn': 2820, 'back': 315, 'sin': 2481, 'bless': 396, 'good': 1230, 'evening': 1010, 'trained': 2783, 'agronomy': 176, 'almost': 202, 'die': 825, 'listen': 1628, 'radio': 2210, 'everyday': 1016, 'already': 207, 'clothes': 598, 'your': 3039, 'understanding': 2840, 'write': 3022, 'organization': 1967, 'reach': 2230, 'knrdaquin': 1547, 'yahoo': 3028, 'fr': 1165, 'communicate': 627, 'members': 1744, 'numbers': 1916, 'petite': 2056, 'riviere': 2331, 'drink': 906, 'everyone': 1017, 'repo': 2286, '50': 82, 'lamantin': 1564, '52': 86, '54': 87, 'say': 2383, 'huge': 1369, 'aftershock': 166, 'tonight': 2762, 'bigger': 383, 'morning': 1816, 'cell': 531, 'phone': 2059, 'sound': 2547, 'busyplease': 471, 'try': 2812, 'fix': 1116, 'flood': 1121, 'done': 895, 'destruction': 812, 'kachipul': 1504, 'crop': 715, 'employment': 972, 'given': 1213, 'till': 2744, 'awatan': 309, 'even': 1009, 'neither': 1871, 'nor': 1899, 'abu': 123, 'everything': 1018, 'arcachon': 261, '34': 59, 'refuge': 2253, 'dave': 759, 'let': 1607, 'cards': 508, 'full': 1179, 'church': 567, 'egliz': 955, 'weathe': 2947, 'tomorrow': 2760, 'february': 1071, '28th': 50, 'news': 1881, 'smell': 2509, 'within': 2997, 'debc': 768, 'jman': 1486, 'lots': 1657, 'medications': 1737, 'uncle': 2834, 'republique': 2292, 'dominicaine': 890, 'santo': 2373, 'domingo': 889, 'adresse': 150, '31': 56, 'bag': 319, 'matter': 1716, 'size': 2494, 'visit': 2915, 'consist': 656, 'underwear': 2841, 'tarp': 2666, 'humanitarian': 1371, 'destroyed': 811, 'death': 767, 'angry': 222, 'three': 2733, 'diarrhoea': 822, 'him': 1336, 'bas': 328, 'saintard': 2356, 'guitton': 1269, 'jean': 1476, 'hose': 1353, 'mahotte': 1675, 'arcahaie': 262, 'migrating': 1767, 'capital': 505, 'four': 1163, 'different': 831, 'staying': 2587, 'two': 2825, 'wounded': 3019, 'learn': 1590, 'become': 348, 'stylist': 2613, 'bad': 317, 'dreams': 905, 'big': 382, 'dreamer': 904, 'feel': 1074, 'lonely': 1643, 'preval': 2144, 'resignation': 2302, 'january': 1474, '12th': 11, 've': 2888, 'refugees': 2254, 'second': 2402, 'eathquake': 938, 'last': 1575, 'jan': 1473, '12': 7, '2010': 32, 'should': 2461, 'happen': 1292, 'reopening': 2279, 'states': 2580, 'universities': 2853, 'hello': 1320, 'injuries': 1433, 'medical': 1734, 'complication': 636, 'informations': 1425, 'countries': 695, 'sending': 2426, 'gouvernement': 1238, 'thing': 2720, 'oh': 1939, 'getting': 1204, 'signo': 2475, 'geren': 1201, 'brach': 435, 'bags': 320, 'gallon': 1187, 'beans': 341, 'industrial': 1417, 'engineer': 979, 'participate': 2009, 'resconstruction': 2298, 'country': 696, 'security': 2407, 'plan': 2082, 'world': 3013, 'says': 2385, 'clear': 589, 'necessarily': 1857, 'boil': 406, 'louco': 1659, 'healthy': 1310, 'just': 1502, 'divin': 871, 'ever': 1013, 'past': 2018, 'sleeps': 2500, 'only': 1950, 'part': 2007, 'finding': 1108, 'doing': 886, 'wreat': 3021, 'waiting': 2925, 'answer': 231, 'damage': 744, 'business': 468, 'mess': 1749, 'll': 1635, 'rubble': 2345, 'across': 135, 'local': 1636, 'reeducation': 2251, 'centre': 536, 'crushed': 724, 'goverment': 1242, 'international': 1445, 'thak': 2699, 'bizotoncarrefour': 392, 'equipment': 994, 'such': 2618, 'encasefood': 976, 'corporation': 681, 'scolary': 2395, 'www': 3027, 'jobpaw': 1489, 'com': 611, 'left': 1594, 'resume': 2313, 'great': 1255, 'vacant': 2880, 'posts': 2120, 'businesses': 469, 'expect': 1031, 'answers': 232, 'urgent': 2868, 'volunteer': 2922, 'lived': 1632, 'neighbor': 1867, 'relatives': 2263, 'register': 2258, 'soon': 2538, 'possible': 2118, 'delma': 784, 'jacques': 1468, 'yesterday': 3034, 'truck': 2807, 'went': 2958, 'angel': 221, 'marie': 1698, 'community': 629, 'passeport': 2015, 'moment': 1803, 'urgence': 2866, 'technicien': 2676, 'informatique': 1426, 'worked': 3008, 'driver': 911, 'during': 921, '16': 17, 'mois': 1799, 'new': 1880, 'info': 1422, 'regarding': 2256, 'bb': 337, 'tel': 2679, 'land': 1567, 'arrived': 272, 'fond': 1137, 'negres': 1865, 'clothing': 599, 'side': 2472, 'salut': 2365, 'address': 143, 'fao': 1061, 'legume': 1598, 'seeds': 2409, 'contracts': 670, 'cereals': 538, 'emergency': 971, 'needed': 1860, 'grounds': 1263, 'pampak': 2000, 'crush': 723, 'anyone': 240, 'bacc': 314, 'edh': 947, 'pasket': 2012, 'stop': 2593, 'thought': 2732, 'hide': 1332, '4636': 75, 'record': 2247, 'service': 2438, 'closes': 596, 'eyes': 1045, 'pray': 2128, 'convincing': 672, 'persuaded': 2049, 'gentlemen': 1197, 'another': 228, 'able': 117, 'fermathe': 1083, '59': 90, 'residents': 2301, 'difficulties': 834, 'harder': 1298, 'palma': 1997, 'suffuring': 2624, 'inhabitants': 1430, 'zone': 3045, 'bel': 361, 'air': 183, 'especially': 997, 'docteur': 878, 'aubry': 298, 'macajoux': 1668, 'cesars': 541, 'pitiful': 2073, 'state': 2578, 'truncated': 2810, 'handle': 1289, 'geography': 1198, 'check': 552, 'sure': 2636, 'coords': 676, 'right': 2327, 'mon': 1805, '44': 72, 'concorde': 648, 'quickly': 2206, 'tirsty': 2749, 'siko': 2476, 'magloire': 1671, 'ambroise': 212, 'far': 1062, 'sister': 2485, 'compound': 638, 'sapotille': 2374, 'terrain': 2693, 'dochamo': 876, '21st': 39, 'took': 2765, 'marc': 1695, 'bugs': 456, 'biting': 389, 'department': 790, 'public': 2186, 'mspp': 1833, 'spray': 2564, 'screw': 2397, 'loose': 1650, 'count': 690, 'streets': 2599, 'kafou': 1507, 'specialement': 2556, '42': 70, 'forgotten': 1153, 'abandonned': 115, 'situated': 2489, 'petionville': 2054, 'diegue': 827, 'dehydrated': 780, 'finish': 1110, 'national': 1852, 'archive': 263, 'distributing': 863, 'fifty': 1093, 'suffered': 2622, 'mamages': 1684, 'totally': 2774, 'tools': 2766, 'plant': 2085, 'bean': 340, 'etc': 1000, 'cook': 673, 'personal': 2047, 'concerns': 647, 'offer': 1934, 'ditribute': 869, 'goods': 1233, 'silo': 2478, 'kamep': 1513, 'feelingfaint': 1076, 'hourse': 1359, 'understand': 2839, 'explicit': 1039, 'pleas': 2093, 'massive': 1709, 'hit': 1341, 'firm': 1112, 'strong': 2604, 'recieve': 2244, 'mind': 1772, 'sence': 2422, 'again': 168, 'saint': 2355, 'catrine': 524, 'medicaments': 1735, 'however': 1365, 'gon': 1224, 'na': 1844, 'allright': 201, 'milot': 1771, 'commune': 624, 'thomazeau': 2729, 'trou': 2803, 'caiman': 485, 'revoir': 2319, 'capenter': 504, 'joiner': 1494, 'asking': 278, 'ngos': 1885, 'shelters': 2457, 'ok': 1941, 'orther': 1971, 'rabel': 2208, 'lascahobas': 1574, '57': 89, 'goodness': 1231, 'everybody': 1015, 'tired': 2748, 'prolongee': 2168, '363': 63, 'bis': 386, 'relates': 2262, 'morija': 1814, 'diquini': 844, 'brought': 451, 'gotten': 1235, 'central': 535, 'plateau': 2088, 'ride': 2325, 'homeless': 1347, 'tons': 2763, 'rain': 2215, 'freres': 1170, 'trouble': 2804, 'birth': 385, 'baby': 313, 'gynecolog': 1273, 'allow': 200, 'deep': 778, 'heart': 1313, 'wedding': 2949, 'operated': 1955, 'same': 2368, 'off': 1933, '240': 43, 'incomplete': 1411, 'details': 813, 'diapers': 819, 'store': 2595, 'rte': 2343, 'clercine': 590, 'butte': 473, 'boyer': 433, 'apres': 252, 'hotel': 1357, 'stephia': 2588, 'impasse': 1404, 'gelin': 1193, 'visa': 2913, 'yet': 3036, 'northwest': 1904, 'wo': 3001, 'daily': 742, 'activity': 139, 'senegal': 2427, 'hardly': 1299, 'organisation': 1966, 'fils': 1103, 'nippes': 1891, 'pour': 2125, 'le': 1586, 'developpement': 816, 'ofbide': 1932, 'response': 2307, 'americain': 214, 'gives': 1214, 'opportinities': 1958, 'prs': 2180, 'survivor': 2641, 'leaves': 1593, 'mountains': 1825, 'wow': 3020, 'balayen': 323, 'firmed': 1113, 'rosa': 2340, 'villa': 2906, 'sweet': 2644, 'kiss': 1538, 'remembered': 2271, 'whether': 2971, 'jobs': 1490, 'profession': 2160, 'buy': 474, 'fair': 1053, 'distributors': 865, 'selling': 2420, 'indicate': 1416, 'fiever': 1092, 'metal': 1754, 'plates': 2089, 'pot': 2121, 'attrap': 296, 'virus': 2911, 'careless': 512, 'rochalet': 2335, 'sender': 2425, 'receives': 2241, 'smss': 2512, 'passport': 2016, 'proceed': 2155, 'reopened': 2278, 'circle': 570, 'sun': 2627, 'explication': 1038, 'several': 2440, 'tuesday': 2816, 'gerald': 1199, 'bataille': 333, 'ode': 1928, 'lucien': 1664, 'doctores': 880, 'muscular': 1838, 'springiness': 2566, 'extensibility': 1040, 'property': 2171, 'muscles': 1837, 'possess': 2115, 'distort': 859, 'then': 2712, 'elongation': 965, 'usual': 2878, 'shape': 2448, 'while': 2973, 'inviting': 1452, 'others': 1973, 'towards': 2778, 'jesus': 1480, 'benediction': 371, 'peace': 2030, 'happiness': 1295, 'eternel': 1003, 'task': 2668, 'sehta': 2414, 'sench': 2423, 'channa': 549, 'sehwan': 2415, 'jamshoro': 1472, 'months': 1811, 'passed': 2014, 'except': 1025, 'few': 1088, 'helicopters': 1318, 'thrown': 2740, 'wheat': 2966, 'biscuits': 387, 'begining': 356, 'contact': 661, 'mediacal': 1733, 'forms': 1155, 'hurry': 1378, 'top': 2770, 'dekayete': 781, 'babies': 312, 'change': 547, 'transmit': 2792, 'warf': 2937, 'tabarre': 2650, 'power': 2127, 'outage': 1981, 'thives': 2727, 'organize': 1969, 'aftershocks': 167, 'end': 977, 'willy': 2991, 'plaisance': 2081, 'nord': 1900, 'lespinas': 1605, 'fort': 1156, 'upper': 2865, 'petion': 2053, 'ville': 2909, 'wi': 2984, 'own': 1987, 'himself': 1337, 'bandits': 326, 'list': 1627, 'committees': 622, 'coupon': 697, 'sea': 2398, 'rise': 2328, 'tsunami': 2814, 'either': 958, 'does': 883, 'canada': 494, 'schoolarship': 2389, 'normal': 1901, 'having': 1305, 'attack': 292, 'innovasion': 1435, 'pub': 2185, 'wrote': 3026, 'boby': 404, 'foul': 1160, 'prolong': 2167, 'hey': 1329, 'wan': 2931, 'earth': 930, 'body': 405, 'neglijed': 1864, 'advises': 158, 'shartage': 2451, 'affected': 159, 'feuille': 1085, 'ave': 304, 'gone': 1228, 'provided': 2177, 'dollars': 887, 'sell': 2419, 'dorsainvily': 899, 'married': 1704, 'issue': 1457, 'records': 2248, 'showing': 2463, 'unmarried': 2857, 'longer': 1645, 'infected': 1419, 'repay': 2283, 'lambi': 1565, 'night': 1889, 'club': 601, 'explain': 1037, 'enter': 989, 'until': 2862, 'sudscribe': 2619, 'order': 1963, 'anymore': 239, 'foreing': 1148, 'republican': 2291, 'republic': 2290, 'politic': 2106, 'soreeyes': 2540, 'throatache': 2735, 'lemon': 1600, 'juice': 1501, 'kill': 1533, 'microbe': 1763, 'feiver': 1080, 'weeks': 2954, 'foods': 1141, 'estime': 998, '28': 49, 'probem': 2151, 'sultan': 2626, 'kot': 1550, 'messages': 1751, 'education': 948, 'closing': 597, 'prison': 2149, 'doors': 898, 'gros': 1261, 'artibonite': 273, 'lillavois47': 1621, 'donation': 894, 'seld': 2418, 'poor': 2109, 'responsable': 2306, 'sense': 2431, 'crashed': 707, 'dire': 845, 'survive': 2640, 'bouquets': 430, 'history': 1340, 'prepare': 2137, 'future': 1184, 'form': 1154, 'enjoy': 983, 'believe': 365, 'thinking': 2723, 'praying': 2130, 'listening': 1629, 'miami': 1760, 'helping': 1324, 'five': 1115, 'starve': 2575, 'martinique': 1706, 'desaster': 797, 'knows': 1546, 'commitee': 620, 'browsing': 453, 'above': 119, 'descaillets': 798, 'protect': 2173, 'light': 1616, 'victime': 2901, 'neret': 1873, 'hous': 1360, 'badly': 318, 'hurt': 1379, '1233': 8, 'housing': 1363, 'nerret': 1875, 'colleg': 608, 'antillais': 234, 'nobody': 1894, 'visited': 2916, 'don': 892, 'sms': 2511, 'time': 2745, 'ecountryside': 945, 'event': 1011, 'lamentin': 1566, 'aurelle': 300, 'helped': 1323, 'men': 1745, 'kenscoff': 1525, 'island': 1455, 'saying': 2384, 'mean': 1724, 'computer': 642, 'technician': 2675, 'laptops': 1571, 'enterprise': 990, 'hire': 1338, 'mode': 1798, 'transportation': 2794, 'wants': 2936, 'remake': 2269, 'certificate': 539, 'expired': 1036, 'passports': 2017, 'start': 2572, 'process': 2156, 'dufort': 918, 'acellphone': 130, 'giving': 1215, 'officials': 1937, 'suburban': 2616, 'areas': 267, 'necessary': 1858, 'sharing': 2450, 'earthquakes': 932, 'weekend': 2953, 'stations': 2583, 'open': 1951, 'plain': 2079, 'advice': 155, 'ministery': 1776, 'legalise': 1596, 'heard': 1312, 'saw': 2382, 'bunch': 461, 'soldiers': 2521, 'kind': 1535, 'requesting': 2294, 'spend': 2559, 'alpha': 206, 'comity': 618, 'nerettes': 1874, '879': 109, 'tentes': 2691, 'takecare': 2654, 'precaution': 2131, 'kid': 1531, 'into': 1448, 'toilet': 2755, 'pea': 2029, 'cite': 574, 'militaire': 1769, '9th': 113, 'citronniers': 580, 'myrthe': 1842, 'faustin': 1066, '1st': 27, 'fills': 1102, 'policeman': 2105, 'hides': 1333, 'recipient': 2246, 'goaves': 1221, 'aware': 308, 'arms': 268, 'legs': 1597, 'urgently': 2869, 'advices': 156, 'wish': 2995, 'customers': 731, 'may': 1720, 'keep': 1522, 'safe': 2352, 'themselves': 2711, 'reason': 2238, 'dog': 884, 'falling': 1056, 'darkness': 752, 'pastor': 2019, 'bwadom': 477, 'require': 2295, 'karora': 1518, 'dist': 857, 'shangla': 2447, 'disease': 853, 'assessment': 281, 'difficult': 833, 'period': 2040, 'hygiene': 1383, 'tp': 2781, 'planting': 2086, 'man': 1685, 'therapy': 2713, 'grand': 1250, 'mother': 1822, 'medecine': 1731, 'drugs': 915, 'soul': 2546, 'cry': 725, 'liberate': 1611, 'itself': 1463, 'patrice': 2027, 'lumumba': 1665, 'thirst': 2724, 'pleae': 2092, 'folks': 1135, 'aquatabs': 257, 'purification': 2191, 'product': 2157, 'price': 2146, 'cup': 728, 'cousin': 703, 'girlfriend': 1210, 'hiv': 1342, 'precautions': 2132, 'lavout': 1584, 'distributed': 862, 'samaritan': 2367, 'hers': 1328, 'father': 1063, 'neighbors': 1869, 'toour': 2769, 'sorry': 2541, 'missed': 1788, 'meeting': 1742, 'walking': 2929, 'buses': 467, 'waney': 2932, '451': 73, 'inside': 1437, 'letting': 1608, 'fill': 1100, 'bellies': 366, 'measures': 1728, 'scared': 2386, 'eating': 939, 'expiration': 1035, 'date': 754, 'raining': 2216, '2nd': 52, 'peaches': 2031, 'garden': 1190, '500': 83, 'trees': 2801, 'flow': 1128, 'away': 310, 'embankment': 968, 'embnkment': 970, 'completly': 635, 'dimalished': 841, 'river': 2330, 'nameajeans': 1846, 'youth': 3041, 'association': 284, 'action': 137, 'society': 2516, 'founded': 1162, 'september': 2433, '2009': 30, 'president': 2140, 'laval': 1582, 'cin': 569, 'play': 2090, 'dated': 755, 'investigation': 1451, 'bringing': 445, 'mirabalais': 1781, 'stock': 2591, 'hope': 1351, 'dogs': 885, 'drop': 912, 'deserve': 802, 'respect': 2304, 'cover': 704, 'uneted': 2843, 'carre': 516, 'lapot': 1570, 'recieved': 2245, 'leaders': 1588, 'masson': 1710, 'informed': 1427, 'pyron': 2200, 'tomasin': 2758, 'promise': 2169, 'someones': 2531, 'survival': 2639, 'comitte': 616, 'jack': 1465, 'premye': 2136, 'ri': 2321, 'sengor': 2430, 'citron': 579, 'football': 1143, 'peas': 2032, 'corn': 679, 'sarte': 2375, 'philadelphia': 2057, 'teleco': 2681, 'glise': 1217, 'nouvelle': 1910, 'citi': 575, 'es': 996, 'rachets': 2209, 'quake': 2201, 'reveived': 2317, 'persons': 2048, 'aide': 180, 'labelaire': 1555, '43': 71, 'decayette': 774, 'wipes': 2993, 'feb': 1070, 'noise': 1896, 'ears': 929, 'university': 2854, 'dominican': 891, 'chief': 557, 'graphic': 1252, 'designer': 803, 'professional': 2161, '610': 94, 'review': 2318, 'brocken': 446, 'collapsed': 607, 'mom': 1802, 'translate': 2789, 'indeed': 1414, 'milk': 1770, 'turns': 2822, 'ice': 1388, 'flowers': 1130, 'fruit': 1178, 'worship': 3016, 'forever': 1149, 'borther': 417, 'niece': 1888, 'nephew': 1872, 'courage': 699, 'hang': 1291, 'alone': 203, 'overseas': 1985, 'calling': 488, 'disinfecting': 856, 'aspeger': 280, 'againts': 170, 'mosquitoes': 1819, 'smel': 2508, 'issues': 1458, 'workers': 3010, 'site': 2487, 'resistred': 2303, 'programm': 2165, 'though': 2731, 'pernier': 2044, 'raphael': 2220, 'happening': 1293, 'alot': 205, 'sivady': 2491, 'remember': 2270, 'relieve': 2265, 'haitel': 1278, 'courtyard': 702, 'concern': 644, 'sounds': 2548, 'digi': 837, 'urine': 2870, 'test': 2695, '17': 18, 'malpasse': 1683, 'bridge': 443, 'michaud': 1761, 'guedon': 1265, 'terre': 2694, 'noire': 1895, 'potable': 2122, 'dropping': 913, 'tiny': 2747, 'receiving': 2242, 'christophe': 566, 'imp': 1403, 'lavisse': 1583, 'known': 1545, 'methods': 1755, 'desprate': 809, 'odors': 1930, 'bosses': 419, 'nice': 1886, 'talks': 2661, 'patch': 2021, 'ending': 978, 'thrue': 2741, 'panic': 2001, 'talk': 2659, 'blue': 401, 'skirt': 2496, 'color': 610, 'creme': 710, 'commercial': 619, 'flight': 1119, 'daughter': 757, 'fallen': 1055, 'ill': 1400, 'extreme': 1042, 'constructing': 659, 'room': 2339, 'abdul': 116, 'jamil': 1471, 'chah': 542, 'dhory': 818, 'wala': 2926, 'chakar': 543, 'dari': 751, 'adu': 151, 'yes': 3033, 'ministry': 1777, 'supposed': 2634, 'via': 2899, 'name': 1845, 'being': 360, 'text': 2697, 'useless': 2875, 'bus': 466, 'station': 2581, 'jrmie': 1500, 'latest': 1577, 'mahoti': 1673, '79': 103, 'beautifuls': 343, 'application': 247, 'sturdy': 2612, 'administration': 145, 'savanne': 2379, 'rubber': 2344, 'nipples': 1892, 'bottles': 423, 'greatly': 1256, 'hands': 1290, 'both': 420, 'parents': 2005, 'miragoan': 1782, 'looking': 1648, 'jorking': 1496, 'locality': 1637, 'raymond': 2228, 'dies': 828, 'temporary': 2687, 'asylum': 289, 'specialy': 2558, 'medecins': 1732, 'mst': 1834, 'ist': 1459, 'familial': 1057, 'planning': 2084, 'psycological': 2184, 'forth': 1157, 'brezil': 442, 'build': 458, '150': 16, '000': 0, 'joke': 1495, 'teaching': 2672, 'kindergarten': 1536, 'hypertension': 1385, 'tampons': 2663, 'pads': 1989, 'thee': 2707, 'purpose': 2195, 'moments': 1804, 'times': 2746, 'distress': 860, 'bitter': 390, 'arrive': 271, 'spots': 2563, 'afternoon': 164, 'plea': 2091, 'subscribe': 2615, 'belok': 367, 'economics': 943, 'fia': 1089, 'supports': 2632, 'intend': 1443, 'id': 1389, 'cazeau': 529, 'universit': 2852, 'sciences': 2392, 'comptables': 641, 'accounting': 129, 'manager': 1687, 'used': 2874, 'drive': 910, 'aftershake': 165, 'attain': 293, 'level': 1609, 'long': 1644, 'minutes': 1780, 'adventist': 154, 'carefour': 511, 'gentle': 1196, 'tongue': 2761, 'break': 437, 'bones': 412, 'airline': 185, 'reopen': 2277, 'cloths': 600, 'turned': 2821, 'dessalines': 810, 'named': 1847, 'studying': 2610, 'maybe': 1721, 'scholarship': 2387, 'vegetables': 2890, 'cereal': 537, 'grains': 1249, 'ration': 2224, 'winter': 2992, 'approaching': 249, 'infos': 1429, 'works': 3012, 'activities': 138, 'search': 2399, 'whenever': 2968, 'kolekte': 1548, 'hell': 1319, 'parties': 2011, 'types': 2828, 'artistes': 274, 'perished': 2041, 'due': 917, 'unted': 2861, 'baylod': 336, 'wonder': 3004, 'foreign': 1147, 'ones': 1947, 'bear': 342, 'desefectants': 801, 'toillettes': 2756, 'joseph': 1497, 'labon': 1556, 'redcross': 2250, 'torcel': 2772, 'tabar': 2649, '70': 100, 'laurierset': 1581, 'tulipes': 2817, 'numer': 1917, 'ity': 1464, 'ami': 216, 'inner': 1434, 'court': 701, 'taba': 2648, 'kazo': 1521, 'pity': 2074, 'demanding': 786, 'authority': 302, 'front': 1176, 'goave': 1220, 'human': 1370, 'rest': 2310, 'peple': 2038, 'cellphone': 532, 'son': 2536, 'corcerned': 678, 'sports': 2562, 'crumbled': 721, 'over': 1984, 'attention': 295, 'cyclone': 738, 'eh': 956, 'police': 2104, 'force': 1145, 'candidates': 497, 'undergoes': 2836, 'examen': 1022, 'registered': 2259, 'might': 1766, 'stuck': 2607, 'presidential': 2141, 'palace': 1995, 'pal': 1994, 'names': 1848, 'lilling': 1622, 'reaching': 2232, 'ate': 291, 'nazon': 1854, 'consult': 660, 'psychologist': 2182, 'caused': 526, 'kambr': 1512, 'shahdadkot': 2445, 'newspaper': 1882, 'digecel': 836, 'canut': 501, 'bwa': 476, 'kara': 1515, 'held': 1316, 'hatte': 1303, 'cadette': 482, 'civic': 582, 'differend': 830, 'domains': 888, 'young': 3038, 'handicap': 1287, 'dust': 922, 'teardown': 2674, 'building': 459, 'throwing': 2739, 'fight': 1094, 'ida': 1390, 'poupla': 2124, 'ar': 260, 'verify': 2892, 'exipred': 1030, 'ideas': 1392, 'manufacturing': 1690, 'opinion': 1957, 'neighbour': 1870, 'leg': 1595, 'miss': 1787, 'minister': 1775, 'told': 2757, 'prescription': 2138, 'throat': 2734, 'fever': 1087, 'docter': 877, 'diseases': 854, 'infection': 1420, '9876': 112, 'provide': 2176, 'nutrition': 1920, 'increse': 1413, 'beleive': 363, 'impossible': 1406, 'donate': 893, 'weak': 2945, '1813': 19, 'girl': 1209, 'comedie': 613, 'en': 974, '1815': 20, 'marre': 1703, 'drama': 903, 'composed': 637, 'engraved': 982, 'bottom': 424, 'bust': 470, 'kousen1': 1553, '11th': 6, 'enrolled': 987, 'costly': 685, 'following': 1136, 'gourdes': 1236, 'measuree': 1727, '200': 29, '125': 9, 'compared': 631, 'kay': 1520, 'fille': 1101, 'bolosse': 409, '4eme': 77, 'supply': 2630, 'temperature': 2686, 'feels': 1077, 'dizzy': 872, 'she': 2452, 'breastfeed': 440, 'her': 1326, 'kastro': 1519, 'none': 1897, 'truth': 2811, 'appearence': 246, 'hypocrisy': 1387, 'lie': 1614, 'lover': 1662, 'close': 594, 'crumple': 722, 'support': 2631, 'willing': 2990, 'debts': 771, 'independence': 1415, 'strengh': 2600, 'eaten': 937, 'favor': 1068, '4help': 78, 'cuz': 734, '4the': 80, 'umbrella': 2831, '4these': 81, 'pounding': 2123, 'gerard': 1200, 'feuilles': 1086, 'rubles': 2346, 'hostel': 1356, 'lodging': 1642, 'holes': 1345, 'walls': 2930, 'lack': 1559, 'moleya': 1801, 'reports': 2288, '80': 104, '90': 110, 'functioning': 1182, 'desperately': 807, 'festival': 1084, 'greetings': 1259, 'allah': 197, 'team': 2673, 'kotly': 1551, 'sattian': 2376, 'raffana': 2211, 'mubeen': 1835, 'talent': 2658, '21': 36, 'conforme': 652, 'christian': 565, 'eph': 992, 'roman': 2338, 'jacq4': 1467, 'epidemic': 993, 'reffuges': 2252, 'helps': 1325, 'best': 378, 'antoine': 235, 'anthony': 233, 'downtown': 902, 'medilien': 1741, 'trapped': 2795, 'openin': 1952, '65': 97, 'orchidee': 1962, 'thirsty': 2725, 'dera': 795, 'yar': 3029, 'tehsil': 2678, 'jhat': 1482, 'pat': 2020, 'jafarabad': 1469, 'balochistan': 324, 'face': 1046, 'agoman': 172, 'acireh': 132, 'renovation': 2276, 'thomassin': 2728, 'served': 2437, 'peter': 2052, 'signal': 2474, 'fm': 1133, 'blankets': 394, 'vessels': 2897, 'khaime': 1528, 'hafiz': 1276, 'rafiq': 2212, 'ahmad': 178, 'basti': 332, 'fogiwala': 1134, 'pati': 2023, 'ghulam': 1205, 'ali': 192, 'sanawan': 2370, 'addu': 144, '60': 92, 'net': 1877, '24': 42, 'technology': 2677, 'faucet': 1065, 'line': 1623, 'turjo': 2819, 'tractor': 2782, 'heavy': 1315, 'sort': 2542, 'lines': 1624, 'chili': 561, 'base': 329, 'blocked': 398, 'trying': 2813, 'bonjour': 413, 'journalist': 1498, 'magnitude': 1672, 'greeting': 1258, 'organizations': 1968, 'installation': 1438, 'maintenance': 1676, 'generators': 1195, 'inverter': 1450, 'examn': 1023, 'ninth': 1890, 'sixth': 2493, 'franswa': 1166, 'ricardo': 2323, 'odging': 1929, 'marassa': 1694, 'mariani': 1697, 'laboule': 1558, 'prosi': 2172, 'structure': 2605, 'seems': 2411, 'province': 2178, 'sign': 2473, 'latremblay': 1579, '55': 88, 'sevice': 2441, 'promotion': 2170, 'debussy': 772, 'available': 303, 'group': 1264, 'psychologists': 2183, 'throughout': 2737, 'departments': 791, 'survivors': 2642, 'pathologies': 2022, 'classes': 584, 'fafan': 1052, 'rail': 2214, 'counting': 694, 'comprehesion': 639, 'alexandre': 190, '37': 64, 'diarrea': 820, 'flue': 1132, 'verrettes': 2894, 'grande': 1251, 'saline': 2363, 'untill': 2863, 'renaissance': 2275, 'tn': 2750, 'built': 460, 'army': 269, 'links': 1625, 'solei': 2522, 'directly': 846, 'highway': 1335, 'sugarcane': 2625, 'worker': 3009, 'villages': 2908, 'slums': 2506, 'residential': 2300, 'hods': 1343, 'governmento': 1245, 'openning': 1954, 'permission': 2043, 'maurice': 1718, 'bonefil': 411, 'toute': 2777, 'cit': 573, 'asthmatic': 288, 'injection': 1431, 'wait': 2924, 'throw': 2738, 'garbage': 1189, 'schools': 2390, 'april': 253, 'idea': 1391, 'remains': 2268, 'twice': 2824, 'troubled': 2805, 'contractors': 669, 'agricultural': 174, 'based': 330, 'mirebalais': 1784, 'financial': 1106, 'means': 1725, 'quite': 2207, 'marotiere': 1702, 'afraid': 162, '1hour': 24, 'invective': 1449, 'discard': 850, '1842': 21, 'balance': 322, 'sheet': 2453, 'unknown': 2856, 'below': 370, 'dkayet': 873, 'diarrhea': 821, 'rampant': 2219, 'undermining': 2837, 'pestel': 2051, 'dipi': 843, '35': 60, 'witness': 2999, 'traumatize': 2796, 'high': 1334, 'cost': 684, 'unitransfert': 2851, 'viruses': 2912, 'bacteria': 316, 'vaginal': 2885, 'infections': 1421, 'vast': 2887, 'spaces': 2553, 'filthy': 1104, 'unreliable': 2858, 'worried': 3014, 'according': 127, 'died': 826, 'sunday': 2628, 'christ': 564, 'king': 1537, 'acacia': 124, 'mist': 1792, 'anot': 227, 'translated': 2790, 'serious': 2435, 'biggest': 384, 'question': 2204, 'deported': 793, 'return': 2316, 'hurted': 1380, 'salute': 2366, 'staff': 2568, 'respond': 2305, 'waters': 2942, 'drinks': 909, 'zones': 3046, 'ginen': 1208, 'beceause': 347, 'anybody': 238, 'sid': 2471, 'zon': 3044, 'banbou': 325, 'damaged': 745, 'noone': 1898, 'elementry': 963, 'bosco': 418, 'saleziene': 2361, 'anorther': 226, 'wanted': 2935, 'class': 583, '5th': 91, 'pressure': 2143, 'asthma': 287, 'drinkable': 907, 'hypo': 1386, 'hyper': 1384, 'glycemic': 1218, 'telandieu': 2680, 'leonord': 1603, 'short': 2459, 'breath': 441, 'case': 519, 'project': 2166, 'picture': 2063, 'leyogane': 1610, 'seen': 2412, 'woman': 3002, 'deliver': 782, 'ile': 1399, 'vache': 2884, 'increased': 1412, 'cough': 687, 'ground': 1262, 'mark': 1700, 'lilavois': 1620, 'cyclon': 737, 'circulate': 571, 'sought': 2545, 'solino': 2524, 'officiel': 1938, 'rheto': 2320, 'reopenning': 2280, 'march': 1696, 'intersection': 1447, 'crossroad': 718, 'paloma': 1998, 'bu': 455, 'jobless': 1488, 'husband': 1382, 'unis': 2848, 'programe': 2164, 'week': 2952, 'comittee': 617, 'kosad': 1549, 'peguyville': 2034, 'cherie': 555, 'aquatable': 256, 'manage': 1686, 'jeremi': 1477, 'stoping': 2594, 'stress': 2602, 'boucan': 425, 'monseigneur': 1809, 'giyou': 1216, 'slelak': 2501, 'therese': 2716, 'member': 1743, 'wiht': 2988, 'typhoid': 2829, 'spreading': 2565, 'peasants': 2033, 'fondikak': 1138, 'gppf': 1246, 'translators': 2791, 'post': 2119, '3500': 62, 'exchange': 1026, 'rate': 2222, 'somme': 2535, 'okt': 1942, 'ou': 1976, 'nurses': 1919, 'vaccination': 2883, 'campaign': 492, 'six': 2492, 'dlo': 874, 'missing': 1789, 'starvin': 2576, 'pleine': 2097, 'carpets': 515, 'favaj': 1067, 'parte': 2008, 'shortage': 2460, 'avoid': 306, 'develop': 815, 'incomplet': 1410, 'eventuel': 1012, 'precision': 2134, 'telling': 2684, 'services': 2439, 'ours': 1978, 'evangelic': 1007, 'mission': 1790, 'await': 307, 'misyon': 1794, 'evangelik': 1008, 'digiciel': 840, 'crops': 716, 'income': 1409, 'wire': 2994, 'transfers': 2787, 'bank': 327, 'senegale': 2428, 'makes': 1680, 'identification': 1393, 'choosing': 563, '62': 95, 'monday': 1806, 'least': 1591, 'cease': 530, 'lying': 1667, 'ache': 131, '81': 106, 'desdune': 799, 'breaked': 438, 'fidelity': 1090, 'eternally': 1002, 'contract': 666, 'pneumonia': 2100, 'filadelfya': 1098, 'hungre': 1376, 'durinfg': 920, 'loosing': 1651, 'mattress': 1717, '29': 51, 'fotamara': 1159, 'elim': 964, 'greet': 1257, 'utited': 2879, 'adra': 148, 'soap': 2514, 'tooth': 2767, 'towel': 2779, 'languagge': 1568, 'cadete': 481, 'infect': 1418, 'taken': 2655, 'chauffeur': 551, 'messengers': 1752, 'gouvernments': 1240, 'jerk': 1479, 'ordering': 1964, 'http': 1368, 'welcome': 2955, 'topuertorico': 2771, 'org': 1965, 'shtml': 2465, 'tyo': 2826, 'unique': 2847, 'affording': 161, 'trait': 2784, 'mobile': 1797, 'bathroom': 335, 'chlorine': 562, 'advised': 157, 'airdrop': 184, 'kits': 1539, 'rural': 2348, 'silent': 2477, 'proverbs': 2175, 'ans': 229, 'adress': 149, 'mandine': 1689, 'tants': 2665, 'aguatab': 177, 'roadcross': 2333, 'document': 882, 'present': 2139, 'responsible': 2308, 'pilot': 2068, 'low': 1663, 'specially': 2557, 'sicks': 2470, 'sainte': 2357, 'bernadette': 374, 'buying': 475, 'warm': 2938, 'brabalance': 434, 'sheltery': 2458, 'remove': 2274, 'martin': 1705, 'communial': 626, 'assylum': 286, 'market': 1701, 'medicin': 1738, 'resting': 2311, 'adolescent': 147, 'routes': 2342, 'urgency': 2867, 'questions': 2205, 'asked': 277, 'vaccin': 2881, 'adult': 152, 'status': 2584, 'kan': 1514, '600': 93, 'stationed': 2582, 'riboncy': 2322, 'honorat': 1350, 'feeling': 1075, 'sore': 2539, 'mecanic': 1729, 'licence': 1612, 'considerate': 655, 'scolarship': 2394, 'communication': 628, 'peoples': 2037, 'mistake': 1793, 'beg': 354, 'sovona': 2551, 'informs': 1428, 'counterpart': 692, 'seism': 2417, 'critical': 712, 'pleases': 2095, 'trouin': 2806, 'leogan': 1601, 'plastic': 2087, 'sheets': 2454, 'costs': 686, 'deal': 764, 'enable': 975, 'changing': 548, 'plaine': 2080, 'shower': 2462, 'tnh': 2751, 'physical': 2061, 'poop': 2108, 'themselve': 2710, 'cutoff': 733, 'office': 1935, 'jhudp': 1483, 'bainet': 321, 'vomiting': 2923, 'outbreaks': 1982, 'resumes': 2314, 'martissant': 1708, 'peruvian': 2050, 'ecole': 941, 'perou': 2045, 'bernard': 375, 'normale': 1902, 'function': 1180, 'disembarking': 855, 'dame': 747, '5000': 84, '210': 37, 'dubois': 916, 'mountain': 1824, 'friday': 1171, 'bercy': 373, 'habitat': 1274, 'cabaret': 480, 'needing': 1861, 'beach': 339, 'accountant': 128, 'plague': 2078, 'coix': 604, 'duval': 923, '30': 55, 'applied': 248, 'univerties': 2855, 'alix': 195, 'blackout': 393, 'hard': 1297, 'itis': 1461, 'reservoir': 2299, 'ed': 946, 'fot': 1158, 'hte': 1366, 'serve': 2436, '4th': 79, 'abandoned': 114, 'decombres': 776, 'slovenly': 2503, 'discourage': 852, 'leading': 1589, 'censor': 533, 'professor': 2162, 'bible': 381, 'book': 414, 'tests': 2696, 'prayer': 2129, 'soil': 2518, 'earthquaque': 933, 'spirit': 2560, 'disturbed': 868, 'deposit': 794, 'sometimes': 2533, 'poket': 2103, 'remind': 2273, 'becaue': 345, 'abroard': 121, 'else': 966, 'leader': 1587, 'sponsor': 2561, 'private': 2150, 'rather': 2223, 'mafia': 1670, 'verification': 2891, 'code': 602, 'bertin': 377, 'lemoine': 1599, 'lagonave': 1561, 'complete': 633, 'treatment': 2800, 'feiulles': 1079, 'savane': 2378, 'pistache': 2072, 'effected': 950, 'lacked': 1560, 'accomodation': 126, 'vilage': 2905, 'distt': 867, 'shadadkot': 2443, 'plz': 2099, 'je': 1475, 'pwela': 2198, 'dail': 741, 'lottery': 1658, 'lid': 1613, 'foward': 1164, 'aquinois': 259, 'posibility': 2114, 'clealy': 587, 'undestand': 2842, 'realize': 2235, 'animator': 224, 'caraibes': 506, '20b': 34, 'chekina': 553, 'alley': 198, 'behind': 359, 'philanthropy': 2058, 'total': 2773, 'salezyen': 2362, 'salesian': 2360, 'fathers': 1064, 'kala': 1508, 'identify': 1395, 'sack': 2350, 'jirado': 1485, 'telenet': 2682, 'cafe': 483, 'kalbas': 1509, '14th': 14, 'wear': 2946, 'lil': 1619, 'carfour': 513, 'debwos': 773, 'acra': 134, 'gets': 1203, 'immigration': 1402, 'started': 2573, 'procedures': 2154, 'strength': 2601, 'move': 1829, 'debris': 770, 'agree': 173, 'floor': 1124, 'miserable': 1785, 'enrollment': 988, 'economic': 942, 'guiton': 1268, 'pump': 2187, 'pill': 2066, 'vit': 2917, 'adoken': 146, 'witout': 3000, 'instead': 1439, 'carnaval': 514, 'mine': 1773, '350': 61, 'kenskof': 1526, 'guibert': 1267, '67': 98, 'counted': 691, 'occured': 1925, 'famin': 1060, 'empty': 973, 'stomach': 2592, 'overwhelming': 1986, 'eid': 957, 'precise': 2133, 'seeking': 2410, 'teacher': 2670, 'widekine': 2986, 'morrow': 1817, 'identified': 1394, 'metropolitan': 1757, 'repair': 2281, 'stores': 2596, 'institutions': 1440, 'cuba': 727, 'isolated': 1456, 'storms': 2597, 'forecast': 1146, 'traumatized': 2797, 'somebody': 2528, 'continu': 664, 'whit': 2974, 'currency': 729, 'anse': 230, 'galets': 1186, 'wesleyenne': 2960, 'fixing': 1117, 'feeding': 1073, '8000': 105, 'narrow': 1850, 'patience': 2024, 'buid': 457, 'twelve': 2823, 'lives': 1633, 'oneself': 1948, 'laboul': 1557, 'aimmigration': 182, 'dampus': 749, 'south': 2550, 'east': 935, 'chemin': 554, 'participated': 2010, 'shrunk': 2464, 'metropolitain': 1756, 'earhtquake': 928, 'sonar': 2537, 'galet': 1185, 'further': 1183, 'embassy': 969, 'unable': 2833, 'grave': 1253, 'difficulty': 835, 'daughters': 758, 'mercredi': 1747, 'wednesday': 2950, 'offices': 1936, 'agriculture': 175, 'lalue': 1563, '233': 41, 'sacre': 2351, 'coeur': 603, 'oakp': 1921, 'ready': 2234, 'therefore': 2715, 'table': 2651, 'contaminated': 663, 'aunt': 299, 'feet': 1078, 'seconds': 2404, 'thankful': 2702, 'corps': 682, 'crs': 719, 'stuff': 2611, 'results': 2312, 'associations': 285, 'replies': 2284, 'burning': 465, 'figuratively': 1097, 'hospitals': 1355, 'reached': 2231, 'occurs': 1927, 'annexe': 225, 'florida': 1126, 'extremely': 1043, 'attend': 294, 'assets': 282, 'wherein': 2970, 'someday': 2529, 'vetan': 2898, 'anyway': 242, 'reinstate': 2261, 'purples': 2194, 'breast': 439, 'reactions': 2233, 'contractille': 667, 'possessed': 2116, 'effect': 949, 'excitation': 1027, 'distinguishes': 858, 'sorts': 2543, 'contractions': 668, 'corail': 677, 'miki': 1768, 'menos': 1746, 'extension': 1041, 'klorox': 1541, 'minuit': 1779, 'tourist': 2776, 'visas': 2914, 'begin': 355, 'whole': 2980, 'neigborhood': 1866, 'broyer': 454, 'enormous': 984, 'hungra': 1375, 'otherwise': 1974, 'rainning': 2217, 'possibility': 2117, 'slept': 2502, 'eya': 1044, 'elderly': 959, 'righ': 2326, 'bassin': 331, 'dyewon': 924, 'oyu': 1988, 'wet': 2962, 'dew': 817, 'chez': 556, 'cator': 523, 'counties': 693, 'medicines': 1740, 'crucial': 720, 'matissan': 1714, 'eternal': 1001, 'demolish': 788, 'nova': 1911, 'scotia': 2396, 'mouth': 1827, 'stink': 2590, 'sachet': 2349, 'despise': 808, 'blocks': 399, 'walk': 2928, 'moya': 1830, 'catch': 522, 'microbes': 1764, 'managment': 1688, 'purified': 2192, 'meyer': 1758, 'entrue': 991, '2rigaud': 53, '2the': 54, 'pshychiatry': 2181, 'forgets': 1151, 'exam': 1021, 'flu': 1131, 'colds': 606, 'disclosed': 851, 'homelessness': 1348, 'compromised': 640, 'structures': 2606, 'cut': 732, 'ray': 2227, 'roi': 2336, 'bizoton': 391, '51': 85, 'kl': 1540, 'sine': 2483, 'pwolon': 2199, 'userene': 2876, 'coupons': 698, 'join': 1493, 'tente': 2690, 'stars': 2571, '2159': 38, 'akra': 188, 'pleasure': 2096, 'cavaillon': 527, 'int': 1442, 'gouvernment': 1239, 'dad': 739, 'blind': 397, 'ulcer': 2830, 'hurts': 1381, 'vaccinated': 2882, 'silvio': 2479, 'ctr': 726, 'smelly': 2510, 'desinfected': 804, 'opportunity': 1959, 'belong': 368, 'hamed': 1285, 'pur': 2189, 'rahim': 2213, 'punjab': 2188, 'pakistan': 1993, 'matric': 1715, 'gulberg': 1271, 'lahore': 1562, 'succes': 2617, 'veau': 2889, 'mais': 1677, 'gate': 1191, 'boul': 428, 'koupo': 1552, 'sanitary': 2371, 'latrines': 1580, 'gov': 1241, 'email': 967, 'minotri': 1778, 'word': 3006, 'bokan': 408, 'pierre': 2065, 'prevent': 2145, 'deter': 814, 'mosquitos': 1820, 'resproci': 2309, 'rassemblement': 2221, 'etudiants': 1004, 'solidaristes': 2523, 'citoyenne': 578, 'divide': 870, 'whith': 2977, 'medecin': 1730, 'sans': 2372, 'frontiers': 1177, 'san': 2369, 'supposedly': 2635, 'beeing': 351, 'law': 1585, 'unitet': 2850, 'mbe': 1722, 'saintilus': 2358, 'relying': 2266, 'transmitting': 2793, '75': 101, 'didine': 824, 'pillar': 2067, 'hardships': 1300, 'file': 1099, 'burden': 464, 'cream': 708, 'skin': 2495, 'blemishes': 395, 'regreat': 2260, 'sol': 2519, 'solon': 2525, 'handing': 1288, 'decentralization': 775, 'cities': 576, 'asks': 279, 'heads': 1308, 'robbed': 2334, 'currently': 730, 'vivi': 2918, 'mitchell': 1795, 'tant': 2664, 'bath': 334, 'material': 1711, 'tells': 2685, 'wash': 2940, 'seguineau': 2413, 'corner': 680, 'bertholy': 376, 'latrable': 1578, 'add': 142, 'tempts': 2688, 'dear': 766, 'taste': 2669, 'las': 1573, 'cahobas': 484, 'chambrun': 544, 'effort': 952, 'colon': 609, 'turgeau': 2818, 'scientist': 2393, 'syphilis': 2645, 'expects': 1032, 'interesting': 1444, 'faes': 1051, 'locations': 1641, 'mft': 1759, 'liive': 1617, 'white': 2975, 'whites': 2976, 'matisan': 1713, 'damages': 746, 'guessing': 1266, 'pushed': 2196, 'fights': 1096, 'west': 2961, 'mole': 1800, 'nicolas': 1887, 'karenaj': 1517, 'hate': 1302, 'victory': 2904, 'anxious': 236, 'fact': 1050, 'kept': 1527, 'debit': 769, 'liquid': 1626, 'flowed': 1129, '1h': 23, '1mn': 25, '1s': 26, 'gifts': 1206, 'kachipur': 1505, 'kambarshada': 1511, 'dough': 900, 'bread': 436, 'pilow': 2069, 'akasan': 187, 'nesly': 1876, 'volcano': 2921, 'saut': 2377, 'eau': 940, 'election': 960, 'effectively': 951, 'claudel': 586, 'desir': 805, '83': 107, 'canal': 495, 'completely': 634, 'impure': 1407, 'pure': 2190, 'girls': 1211, 'nearly': 1856, 'lose': 1653, 'belief': 364, 'sky': 2497, 'measure': 1726, '250gd': 47, '200gd': 31, '125gd': 10, '100gd': 3, 'exemple': 1028, 'neglect': 1863, 'reamenagement': 2237, 'park': 2006, 'cyber': 735, 'noted': 1907, 'kn': 1543, 'shah': 2444, 'heavily': 1314, 'portable': 2113, 'bed': 349, 'conditions': 650, 'unsuffient': 2860, 'facilities': 1048, 'alhadiino': 191, 'englishmen': 981, 'appeal': 244, 'drowned': 914, 'dirty': 848, 'pls': 2098, 'beginnings': 357, 'difficles': 832, 'constantpractice': 657, 'facilitate': 1047, 'stain': 2569, 'ease': 934, 'lycee': 1666, 'wondering': 3005, 'delivered': 783, 'priority': 2148, 'enroll': 986, 'fin': 1105, 'european': 1005, 'math': 1712, 'championship': 545, 'clean': 588, 'aquatad': 258, 'secondes': 2403, 'depatment': 792, 'hold': 1344, 'dealt': 765, 'imilliation': 1401, 'circulates': 572, 'fear': 1069, 'deepest': 779, 'michely': 1762, 'looks': 1649, 'eacra': 927, 'whould': 2982, 'helo': 1321, 'htg': 1367, 'evrything': 1019, 'hundred': 1373, 'seigneur': 2416, 'il': 1398, 'messieurs': 1753, 'svp': 2643, 'senate': 2421, 'parc': 2004, 'unrest': 2859, 'purify': 2193, 'jif': 1484, 'abricot': 120, 'repatriate': 2282, 'patmos': 2026, 'unicef': 2845, 'dates': 756, 'senegalese': 2429, 'keeps': 1524, 'govern': 1243, 'pockets': 2101, 'observations': 1923, 'tsunamis': 2815, 'observation': 1922, 'goodnight': 1232, 'transfor': 2788, 'justify': 1503, 'identity': 1396, 'exactly': 1020, 'jam': 1470, 'gulab': 1270, 'pahore': 1990, 'haidar': 1277, 'recent': 2243, 'din': 842, 'compensation': 632, 'bedsheet': 350, 'per': 2039, 'cool': 675, 'weather': 2948, 'cooked': 674, '10th': 4, 'palm': 1996, '2012': 33, 'electric': 961, 'weneed': 2957, 'ravine': 2226, 'pintade': 2070, 'olympic': 1944, 'catastrophe': 521, 'alert': 189, 'msf': 1831, 'sexual': 2442, 'violence': 2910, 'victoire': 2903, 'dargout': 750, 'mothers': 1823, 'committee': 621, 'laplaine': 1569, 'tough': 2775, 'democracy': 787, 'axina': 311, 'giles': 1207, 'paper': 2003, 'flat': 1118, 'aprimature': 254, 'piron': 2071, 'longest': 1646, 'losing': 1654, 'later': 1576, 'ins': 1436, 'saving': 2381, 'decrease': 777, 'risk': 2329, '3e': 65, 'comunal': 643, 'tiboukan': 2743, 'cannnot': 499, 'books': 415, 'whom': 2981, 'cared': 510}\n"
     ]
    }
   ],
   "source": [
    "vectorizer = CountVectorizer()\n",
    "X_trainM = vectorizer.fit_transform(X_train).toarray()\n",
    "X_testM = vectorizer.transform(X_test).toarray()\n",
    "\n",
    "print(vectorizer.vocabulary_)"
   ]
  },
  {
   "cell_type": "code",
   "execution_count": 8,
   "id": "7ca9f834",
   "metadata": {
    "id": "7ca9f834"
   },
   "outputs": [],
   "source": [
    "# Function that handles sample splitting, model fitting and report printing \n",
    "def mfunc(X_train, X_test, y_train, y_test, typ):\n",
    "    \n",
    "    \n",
    "    # Fit the model\n",
    "    model = typ\n",
    "    clf = model.fit(X_train, y_train)\n",
    "\n",
    "    # Predict class labels on a test data\n",
    "    pred_labels = model.predict(X_test)\n",
    "\n",
    "    # Print model attributes \n",
    "    print('Classes: ', clf.classes_) # class labels known to the classifier\n",
    "    if str(typ)=='GaussianNB()':\n",
    "        print('Class Priors: ',clf.class_prior_) # prior probability of each class.\n",
    "    else: \n",
    "        print('Class Log Priors: ',clf.class_log_prior_) # log prior probability of each class.\n",
    "        \n",
    "    # Use score method to get accuracy of the model\n",
    "    print('--------------------------------------------------------')\n",
    "    score = model.score(X_test, y_test)\n",
    "    print('Accuracy Score: ', score)\n",
    "    print('--------------------------------------------------------')\n",
    "    \n",
    "    # Look at classification report to evaluate the model\n",
    "    print(classification_report(y_test, pred_labels))\n",
    "    \n",
    "    # Return relevant data for chart plotting\n",
    "    return X_train, X_test, y_train, y_test, clf, pred_labels\n",
    "\n"
   ]
  },
  {
   "cell_type": "code",
   "execution_count": 9,
   "id": "baba6e7b",
   "metadata": {
    "colab": {
     "base_uri": "https://localhost:8080/"
    },
    "id": "baba6e7b",
    "outputId": "0288bdc2-b333-4b51-ac57-903c35bd3a14"
   },
   "outputs": [
    {
     "name": "stdout",
     "output_type": "stream",
     "text": [
      "Classes:  [0 1]\n",
      "Class Log Priors:  [-1.1224138  -0.39377348]\n",
      "--------------------------------------------------------\n",
      "Accuracy Score:  0.8048780487804879\n",
      "--------------------------------------------------------\n",
      "              precision    recall  f1-score   support\n",
      "\n",
      "           0       0.91      0.69      0.78        42\n",
      "           1       0.74      0.93      0.82        40\n",
      "\n",
      "    accuracy                           0.80        82\n",
      "   macro avg       0.82      0.81      0.80        82\n",
      "weighted avg       0.83      0.80      0.80        82\n",
      "\n"
     ]
    }
   ],
   "source": [
    "# Fit the model and print the result\n",
    "X_train1, X_test1, y_train1, y_test1, clf, pred_labels, = mfunc(X_trainM, X_testM, y_train, y_test, MultinomialNB())\n"
   ]
  },
  {
   "cell_type": "code",
   "execution_count": null,
   "id": "4Ujzd8TCAz4G",
   "metadata": {
    "id": "4Ujzd8TCAz4G"
   },
   "outputs": [],
   "source": []
  }
 ],
 "metadata": {
  "colab": {
   "provenance": []
  },
  "kernelspec": {
   "display_name": "Python 3 (ipykernel)",
   "language": "python",
   "name": "python3"
  },
  "language_info": {
   "codemirror_mode": {
    "name": "ipython",
    "version": 3
   },
   "file_extension": ".py",
   "mimetype": "text/x-python",
   "name": "python",
   "nbconvert_exporter": "python",
   "pygments_lexer": "ipython3",
   "version": "3.9.12"
  }
 },
 "nbformat": 4,
 "nbformat_minor": 5
}
